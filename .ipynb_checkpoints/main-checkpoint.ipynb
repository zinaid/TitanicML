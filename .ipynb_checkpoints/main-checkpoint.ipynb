{
 "cells": [
  {
   "cell_type": "code",
   "execution_count": 1,
   "id": "e2fdc85b-f7dc-4aa0-a73e-eb1ac2cabfc8",
   "metadata": {},
   "outputs": [],
   "source": [
    "# Import libraries\n",
    "import pandas as pd\n",
    "from pandas_profiling import ProfileReport\n",
    "import sklearn\n",
    "from sklearn import preprocessing\n",
    "import numpy as np\n",
    "from sklearn.model_selection import train_test_split\n",
    "from sklearn.linear_model import LogisticRegression\n",
    "from sklearn.model_selection import cross_val_score\n",
    "from sklearn.metrics import accuracy_score, mean_absolute_error\n",
    "import xgboost as xgb\n",
    "from sklearn.tree import DecisionTreeClassifier\n",
    "import os"
   ]
  },
  {
   "cell_type": "code",
   "execution_count": 2,
   "id": "8eb33a18-6a3c-4c35-87c1-1e127a8f3201",
   "metadata": {},
   "outputs": [],
   "source": [
    "train = pd.read_csv(\"data/input/train.csv\")\n",
    "test = pd.read_csv(\"data/input/test.csv\")\n",
    "test_entry = pd.read_csv(\"data/input/test.csv\")"
   ]
  },
  {
   "cell_type": "code",
   "execution_count": 3,
   "id": "664b7223-ce83-4742-9ce2-930703879d78",
   "metadata": {},
   "outputs": [
    {
     "name": "stdout",
     "output_type": "stream",
     "text": [
      "   PassengerId  Survived  Pclass  \\\n",
      "0            1         0       3   \n",
      "1            2         1       1   \n",
      "2            3         1       3   \n",
      "3            4         1       1   \n",
      "4            5         0       3   \n",
      "\n",
      "                                                Name     Sex   Age  SibSp  \\\n",
      "0                            Braund, Mr. Owen Harris    male  22.0      1   \n",
      "1  Cumings, Mrs. John Bradley (Florence Briggs Th...  female  38.0      1   \n",
      "2                             Heikkinen, Miss. Laina  female  26.0      0   \n",
      "3       Futrelle, Mrs. Jacques Heath (Lily May Peel)  female  35.0      1   \n",
      "4                           Allen, Mr. William Henry    male  35.0      0   \n",
      "\n",
      "   Parch            Ticket     Fare Cabin Embarked  \n",
      "0      0         A/5 21171   7.2500   NaN        S  \n",
      "1      0          PC 17599  71.2833   C85        C  \n",
      "2      0  STON/O2. 3101282   7.9250   NaN        S  \n",
      "3      0            113803  53.1000  C123        S  \n",
      "4      0            373450   8.0500   NaN        S  \n"
     ]
    }
   ],
   "source": [
    "# Let us print some of the data to examine what we are dealing with\n",
    "print(train.head())"
   ]
  },
  {
   "cell_type": "code",
   "execution_count": 4,
   "id": "8adfdb10-4519-4b3c-a46b-0ded3517b14d",
   "metadata": {},
   "outputs": [],
   "source": [
    "# Useful function that saves us a lot of time is an automatic xploratory Data Analysis that gives us an overview of all data\n",
    "#eda_report = ProfileReport(train)\n",
    "\n",
    "#eda_report"
   ]
  },
  {
   "cell_type": "code",
   "execution_count": 5,
   "id": "e9f4c8ca-39ce-40e2-9621-f704c55aa18f",
   "metadata": {},
   "outputs": [],
   "source": [
    "# Data explanation\n",
    "# PassengerId - just an ID\n",
    "# Survived - result (present only in train data)\n",
    "# Pclass - class of the pessengers (might be valuable)\n",
    "# Name - through feature engineering we might obtain some of the useful informations\n",
    "# Sex - male or female (might be valuable)\n",
    "# Age - float value of passenger age (might be valuable)\n",
    "# SibSp - passenger has a sibling or spouse (might be valuable)\n",
    "# Parch - number of parents or childer in the boat (might be valuable)\n",
    "# Ticket number - through feature engineering we might obtain some of the useful informations\n",
    "# Fare - price of the ticket (might be useful)\n",
    "# Cabin - number of the cabin (might be useful)\n",
    "# Embarked - port where passengers embarked on the ship (might be useful)"
   ]
  },
  {
   "cell_type": "code",
   "execution_count": 6,
   "id": "782c0ab1-6f5a-4f6f-81f2-09b2197a6b82",
   "metadata": {},
   "outputs": [
    {
     "data": {
      "text/plain": [
       "PassengerId      int64\n",
       "Survived         int64\n",
       "Pclass           int64\n",
       "Name            object\n",
       "Sex             object\n",
       "Age            float64\n",
       "SibSp            int64\n",
       "Parch            int64\n",
       "Ticket          object\n",
       "Fare           float64\n",
       "Cabin           object\n",
       "Embarked        object\n",
       "dtype: object"
      ]
     },
     "execution_count": 6,
     "metadata": {},
     "output_type": "execute_result"
    }
   ],
   "source": [
    "# Now we are going to examine what types of variables we have in dataset\n",
    "train.dtypes\n",
    "# Object types need to be encoded (transformed into integers)"
   ]
  },
  {
   "cell_type": "code",
   "execution_count": 7,
   "id": "c99047a7-0257-4b24-846e-0e2ad429563d",
   "metadata": {},
   "outputs": [
    {
     "name": "stdout",
     "output_type": "stream",
     "text": [
      "PassengerId      0\n",
      "Survived         0\n",
      "Pclass           0\n",
      "Name             0\n",
      "Sex              0\n",
      "Age            177\n",
      "SibSp            0\n",
      "Parch            0\n",
      "Ticket           0\n",
      "Fare             0\n",
      "Cabin          687\n",
      "Embarked         2\n",
      "dtype: int64\n",
      "PassengerId      0\n",
      "Pclass           0\n",
      "Name             0\n",
      "Sex              0\n",
      "Age             86\n",
      "SibSp            0\n",
      "Parch            0\n",
      "Ticket           0\n",
      "Fare             1\n",
      "Cabin          327\n",
      "Embarked         0\n",
      "dtype: int64\n"
     ]
    }
   ],
   "source": [
    "# First we are going to see where are the NaN values\n",
    "print(train.isna().sum())\n",
    "print(test.isna().sum())\n",
    "# Those are Age, Cabin, Embarked in train data and Age, Cabin and Fare in test data"
   ]
  },
  {
   "cell_type": "code",
   "execution_count": 8,
   "id": "c6975602-1179-4bd3-a245-76c10f1364ac",
   "metadata": {},
   "outputs": [],
   "source": [
    "# Now we need to choose what to do with missing data, some of the options are to populate them or to drop them. \n",
    "# Cabin has a huge amount of the missing values so we are goint to drop it, also in this step we will drop PassangerID because we have\n",
    "# no use of it, also Ticket has a high cardinality\n",
    "train.drop([\"PassengerId\", \"Cabin\", \"Ticket\"], axis=1,inplace = True)\n",
    "test.drop([\"PassengerId\", \"Cabin\", \"Ticket\"], axis=1, inplace = True)\n",
    "\n",
    "# Also we are going to split Name, Lastname and Title, and then drop Name and Lastname because the name and lastname don't seem to have\n",
    "# any big correspondence with Survived, while Title might have, and Title might help us to populate Age\n",
    "train[['FirstName', 'TitleLastName']]=train['Name'].str.split(', ', expand=True)\n",
    "train[['Title', 'LastName']]=train['TitleLastName'].str.split('. ',n=1, expand=True)\n",
    "\n",
    "test[['FirstName', 'TitleLastName']]=test['Name'].str.split(', ', expand=True)\n",
    "test[['Title', 'LastName']]=test['TitleLastName'].str.split('. ',n=1, expand=True)\n",
    "\n",
    "# Now we are going to drop FirstName, TitleLastName and LastName\n",
    "train.drop([\"FirstName\",\"TitleLastName\", \"LastName\", \"Name\"], axis=1, inplace = True)\n",
    "test.drop([\"FirstName\",\"TitleLastName\", \"LastName\", \"Name\"], axis=1, inplace = True)"
   ]
  },
  {
   "cell_type": "code",
   "execution_count": 9,
   "id": "ed158c98-b2c5-4480-b1a0-f9fd66d7b2bf",
   "metadata": {},
   "outputs": [
    {
     "name": "stdout",
     "output_type": "stream",
     "text": [
      "   Survived  Pclass     Sex   Age  SibSp  Parch     Fare Embarked Title\n",
      "0         0       3    male  22.0      1      0   7.2500        S    Mr\n",
      "1         1       1  female  38.0      1      0  71.2833        C   Mrs\n",
      "2         1       3  female  26.0      0      0   7.9250        S  Miss\n",
      "3         1       1  female  35.0      1      0  53.1000        S   Mrs\n",
      "4         0       3    male  35.0      0      0   8.0500        S    Mr\n"
     ]
    }
   ],
   "source": [
    "print(train.head())"
   ]
  },
  {
   "cell_type": "code",
   "execution_count": 10,
   "id": "29b2282a-1ec2-4c96-a567-860f383bede0",
   "metadata": {},
   "outputs": [],
   "source": [
    "# Let us deal with NaN values Embarked (Only two variables for Embarked are Nan and we are going to use Mode to replace it)\n",
    "train[\"Embarked\"].fillna(train[\"Embarked\"].mode().iloc[0], inplace = True)\n",
    "# Fare is going to be replaced with mode also because we are missing only one variable\n",
    "test[\"Fare\"].fillna(test[\"Fare\"].mode().iloc[0], inplace = True)"
   ]
  },
  {
   "cell_type": "code",
   "execution_count": 11,
   "id": "426e1bdc-8ad8-4cb8-99b6-8833d8d1fd70",
   "metadata": {},
   "outputs": [
    {
     "name": "stdout",
     "output_type": "stream",
     "text": [
      "        Sex Embarked Title\n",
      "0      male        S    Mr\n",
      "1    female        C   Mrs\n",
      "2    female        S  Miss\n",
      "3    female        S   Mrs\n",
      "4      male        S    Mr\n",
      "..      ...      ...   ...\n",
      "886    male        S   Rev\n",
      "887  female        S  Miss\n",
      "888  female        S  Miss\n",
      "889    male        C    Mr\n",
      "890    male        Q    Mr\n",
      "\n",
      "[891 rows x 3 columns]\n",
      "['male' 'female']\n",
      "male      266\n",
      "female    152\n",
      "Name: Sex, dtype: int64\n",
      "['Q' 'S' 'C']\n",
      "S    270\n",
      "C    102\n",
      "Q     46\n",
      "Name: Embarked, dtype: int64\n",
      "['Mr' 'Mrs' 'Miss' 'Master' 'Ms' 'Col' 'Rev' 'Dr' 'Dona']\n",
      "Mr        240\n",
      "Miss       78\n",
      "Mrs        72\n",
      "Master     21\n",
      "Col         2\n",
      "Rev         2\n",
      "Ms          1\n",
      "Dr          1\n",
      "Dona        1\n",
      "Name: Title, dtype: int64\n"
     ]
    }
   ],
   "source": [
    "# Now we are going to encode all categorical values and let us see what values are categorical and how many values do they have\n",
    "\n",
    "cols = train.select_dtypes(include=['object'])\n",
    "print(cols)\n",
    "for col in cols:\n",
    "    print(test[col].unique())\n",
    "    print(test[col].value_counts())\n",
    "# Those are Sex (only two values so we are going to use binary classification), Ticket \n"
   ]
  },
  {
   "cell_type": "code",
   "execution_count": 12,
   "id": "2fe880ed-940e-4075-be3a-2fc73e26c40c",
   "metadata": {
    "tags": []
   },
   "outputs": [],
   "source": [
    "# Now we will encode categorical values left in our dataset tryng to use encoder that best fits the data\n",
    "# For Sex and Embarked we can use OneHotEncoder because our categorical variables do not embed order information\n",
    "\n",
    "# OneHotEncoder\n",
    "oh = preprocessing.OneHotEncoder()\n",
    "\n",
    "sex_result_train = oh.fit_transform(train[[\"Sex\"]]).toarray()\n",
    "sex_result_test = oh.transform(test[[\"Sex\"]]).toarray()\n",
    "\n",
    "# Appending columns\n",
    "train[['Female', 'Male']] = pd.DataFrame(sex_result_train, index = train.index)\n",
    "test[['Female', 'Male']] = pd.DataFrame(sex_result_test, index = test.index)\n",
    "\n",
    "embarked_result_train = oh.fit_transform(train[[\"Embarked\"]]).toarray()\n",
    "embarked_result_test = oh.transform(test[[\"Embarked\"]]).toarray()\n",
    "\n",
    "# Appending columns\n",
    "train[['Embarked_C', 'Embarked_Q', 'Embarked_S']] = pd.DataFrame(embarked_result_train, index = train.index)\n",
    "test[['Embarked_C', 'Embarked_Q', 'Embarked_S']] = pd.DataFrame(embarked_result_test, index = test.index)\n",
    "\n",
    "# For Title we will user OrdinalEncoding\n",
    "\n",
    "oe = preprocessing.OrdinalEncoder(handle_unknown='use_encoded_value',  unknown_value=np.nan)\n",
    "# transform data\n",
    "train[[\"Title\"]] = oe.fit_transform(train[[\"Title\"]])\n",
    "test[[\"Title\"]] = oe.transform(test[[\"Title\"]])"
   ]
  },
  {
   "cell_type": "code",
   "execution_count": 13,
   "id": "b81f8bd1-a859-4c0d-96ba-a28ce5a3a1c0",
   "metadata": {},
   "outputs": [],
   "source": [
    "# Remove redundant columns now that we have encoded them, we don't need Sex and Embarked\n",
    "train.drop([\"Sex\", \"Embarked\"], axis=1,inplace = True)\n",
    "test.drop([\"Sex\", \"Embarked\"], axis=1, inplace = True)"
   ]
  },
  {
   "cell_type": "code",
   "execution_count": 14,
   "id": "a159990b-8f66-45cf-9c1f-1a207e170251",
   "metadata": {},
   "outputs": [
    {
     "name": "stdout",
     "output_type": "stream",
     "text": [
      "Title\n",
      "0.0     70.000000\n",
      "1.0     58.000000\n",
      "2.0     40.000000\n",
      "3.0     42.000000\n",
      "4.0     38.000000\n",
      "5.0     48.000000\n",
      "6.0     48.500000\n",
      "7.0      4.574167\n",
      "8.0     21.773973\n",
      "9.0     24.000000\n",
      "10.0    24.000000\n",
      "11.0    32.368090\n",
      "12.0    35.898148\n",
      "13.0    28.000000\n",
      "14.0    43.166667\n",
      "15.0    49.000000\n",
      "16.0    33.000000\n",
      "Name: Age, dtype: float64\n",
      "     Survived  Pclass   Age  SibSp  Parch  Fare  Title  Female  Male  \\\n",
      "745         0       1  70.0      1      1  71.0    0.0     0.0   1.0   \n",
      "\n",
      "     Embarked_C  Embarked_Q  Embarked_S  \n",
      "745         0.0         0.0         1.0  \n"
     ]
    }
   ],
   "source": [
    "# Now we only need to deal with Age, we have several options:\n",
    "# Drop entire column, but as we identified Age as a valuable Feature this is not a good option\n",
    "# Drop only rows with NaN values (this is also not a good option because the dataset is already small)\n",
    "# Replace Age with median or mean (This is a valid option that we can try)\n",
    "# Then we can use Title for grouping some rows and replacing Age with median of only that group\n",
    "\n",
    "# First calculate age mean for all title groups\n",
    "print(train.groupby([\"Title\"])[\"Age\"].mean())\n",
    "\n",
    "train['Age'] = train['Age'].fillna(train.groupby(['Title'])['Age'].transform('mean'))\n",
    "test['Age'] = test['Age'].fillna(test.groupby(['Title'])['Age'].transform('mean'))\n",
    "\n",
    "print(train.loc[train['Title'] == 0.0])"
   ]
  },
  {
   "cell_type": "code",
   "execution_count": 15,
   "id": "de40ec37-2863-42fb-9408-b5baa91de9dd",
   "metadata": {},
   "outputs": [],
   "source": [
    "# Now we are going to split train and test data\n",
    "#train.drop([\"Embarked_S\", \"Male\"], axis=1,inplace = True)\n",
    "#test.drop([\"Embarked_S\", \"Male\"], axis=1, inplace = True)\n",
    "\n",
    "y=train[\"Survived\"]\n",
    "X=train.drop(\"Survived\", axis=1)\n",
    "\n",
    "X_train, X_val, y_train, y_val = train_test_split(X, y, test_size = 0.2, random_state=42)\n",
    "\n"
   ]
  },
  {
   "cell_type": "code",
   "execution_count": 16,
   "id": "d6ba1dbf-245b-47f2-b7f6-eabaad3f2a72",
   "metadata": {},
   "outputs": [
    {
     "name": "stdout",
     "output_type": "stream",
     "text": [
      "     Pclass       Age  SibSp  Parch      Fare  Title  Female  Embarked_C  \\\n",
      "331       1  45.50000      0      0   28.5000   11.0     0.0         0.0   \n",
      "733       2  23.00000      0      0   13.0000   11.0     0.0         0.0   \n",
      "382       3  32.00000      0      0    7.9250   11.0     0.0         0.0   \n",
      "704       3  26.00000      1      0    7.8542   11.0     0.0         0.0   \n",
      "813       3   6.00000      4      2   31.2750    8.0     1.0         0.0   \n",
      "..      ...       ...    ...    ...       ...    ...     ...         ...   \n",
      "106       3  21.00000      0      0    7.6500    8.0     1.0         0.0   \n",
      "270       1  32.36809      0      0   31.0000   11.0     0.0         0.0   \n",
      "860       3  41.00000      2      0   14.1083   11.0     0.0         0.0   \n",
      "435       1  14.00000      1      2  120.0000    8.0     1.0         0.0   \n",
      "102       1  21.00000      0      1   77.2875   11.0     0.0         0.0   \n",
      "\n",
      "     Embarked_Q  \n",
      "331         0.0  \n",
      "733         0.0  \n",
      "382         0.0  \n",
      "704         0.0  \n",
      "813         0.0  \n",
      "..          ...  \n",
      "106         0.0  \n",
      "270         0.0  \n",
      "860         0.0  \n",
      "435         0.0  \n",
      "102         0.0  \n",
      "\n",
      "[712 rows x 9 columns]\n",
      "Logistic regression  0.8044692737430168 0.19553072625698323\n",
      "[0.77094972 0.78089888 0.78089888 0.79213483 0.8258427 ]\n",
      "0.7901450003138535\n"
     ]
    }
   ],
   "source": [
    "# Using logistic regression\n",
    "print(X_train)\n",
    "logreg = LogisticRegression(max_iter=800)\n",
    "\n",
    "logreg.fit(X_train, y_train)\n",
    "\n",
    "y_pred = logreg.predict(X_val)\n",
    "print(\"Logistic regression \",accuracy_score(y_pred,y_val), mean_absolute_error(y_pred, y_val))\n",
    "\n",
    "scores = cross_val_score(logreg, X, y, cv=5)\n",
    "scores.sort()\n",
    "accuracy = scores.mean()\n",
    "print(scores)\n",
    "print(accuracy)"
   ]
  },
  {
   "cell_type": "code",
   "execution_count": 17,
   "id": "ecaeaf3b-041d-4808-b751-484216019d09",
   "metadata": {},
   "outputs": [
    {
     "name": "stdout",
     "output_type": "stream",
     "text": [
      "Pclass        0\n",
      "Age           1\n",
      "SibSp         0\n",
      "Parch         0\n",
      "Fare          0\n",
      "Title         1\n",
      "Female        0\n",
      "Embarked_C    0\n",
      "Embarked_Q    0\n",
      "dtype: int64\n",
      "     PassengerId  Pclass                                          Name  \\\n",
      "0            892       3                              Kelly, Mr. James   \n",
      "1            893       3              Wilkes, Mrs. James (Ellen Needs)   \n",
      "2            894       2                     Myles, Mr. Thomas Francis   \n",
      "3            895       3                              Wirz, Mr. Albert   \n",
      "4            896       3  Hirvonen, Mrs. Alexander (Helga E Lindqvist)   \n",
      "..           ...     ...                                           ...   \n",
      "413         1305       3                            Spector, Mr. Woolf   \n",
      "414         1306       1                  Oliva y Ocana, Dona. Fermina   \n",
      "415         1307       3                  Saether, Mr. Simon Sivertsen   \n",
      "416         1308       3                           Ware, Mr. Frederick   \n",
      "417         1309       3                      Peter, Master. Michael J   \n",
      "\n",
      "        Sex   Age  SibSp  Parch              Ticket      Fare Cabin Embarked  \n",
      "0      male  34.5      0      0              330911    7.8292   NaN        Q  \n",
      "1    female  47.0      1      0              363272    7.0000   NaN        S  \n",
      "2      male  62.0      0      0              240276    9.6875   NaN        Q  \n",
      "3      male  27.0      0      0              315154    8.6625   NaN        S  \n",
      "4    female  22.0      1      1             3101298   12.2875   NaN        S  \n",
      "..      ...   ...    ...    ...                 ...       ...   ...      ...  \n",
      "413    male   NaN      0      0           A.5. 3236    8.0500   NaN        S  \n",
      "414  female  39.0      0      0            PC 17758  108.9000  C105        C  \n",
      "415    male  38.5      0      0  SOTON/O.Q. 3101262    7.2500   NaN        S  \n",
      "416    male   NaN      0      0              359309    8.0500   NaN        S  \n",
      "417    male   NaN      1      1                2668   22.3583   NaN        C  \n",
      "\n",
      "[418 rows x 11 columns]\n"
     ]
    }
   ],
   "source": [
    "# There is still NaN data in test\n",
    "print(test.isna().sum())\n",
    "test[\"Age\"].fillna(test[\"Age\"].mode().iloc[0], inplace = True)\n",
    "test[\"Title\"].fillna(test[\"Title\"].mode().iloc[0], inplace = True)\n",
    "\n",
    "print(test_entry)"
   ]
  },
  {
   "cell_type": "code",
   "execution_count": 18,
   "id": "473ee6cd-926d-43f5-8e0b-f16f7887d342",
   "metadata": {},
   "outputs": [
    {
     "name": "stdout",
     "output_type": "stream",
     "text": [
      "     Pclass        Age  SibSp  Parch      Fare  Title  Female  Embarked_C  \\\n",
      "0         3  34.500000      0      0    7.8292   11.0     0.0         0.0   \n",
      "1         3  47.000000      1      0    7.0000   12.0     1.0         0.0   \n",
      "2         2  62.000000      0      0    9.6875   11.0     0.0         0.0   \n",
      "3         3  27.000000      0      0    8.6625   11.0     0.0         0.0   \n",
      "4         3  22.000000      1      1   12.2875   12.0     1.0         0.0   \n",
      "..      ...        ...    ...    ...       ...    ...     ...         ...   \n",
      "413       3  32.000000      0      0    8.0500   11.0     0.0         0.0   \n",
      "414       1  39.000000      0      0  108.9000   11.0     1.0         1.0   \n",
      "415       3  38.500000      0      0    7.2500   11.0     0.0         0.0   \n",
      "416       3  32.000000      0      0    8.0500   11.0     0.0         0.0   \n",
      "417       3   7.406471      1      1   22.3583    7.0     0.0         1.0   \n",
      "\n",
      "     Embarked_Q  \n",
      "0           1.0  \n",
      "1           0.0  \n",
      "2           1.0  \n",
      "3           0.0  \n",
      "4           0.0  \n",
      "..          ...  \n",
      "413         0.0  \n",
      "414         0.0  \n",
      "415         0.0  \n",
      "416         0.0  \n",
      "417         0.0  \n",
      "\n",
      "[418 rows x 9 columns]\n"
     ]
    }
   ],
   "source": [
    "# create csv\n",
    "print(test)\n",
    "\n",
    "#submission_data = logreg.predict(test)\n",
    "\n",
    "#submission_data_frame = pd.DataFrame({\n",
    "#    \"PassengerId\": test_entry[\"PassengerId\"].values,\n",
    "#    \"Survived\": submission_data\n",
    "#})\n",
    "#print(submission_data_frame)\n",
    "#submission_data_frame.to_csv(\"data/output/submission_logreg.csv\", index=False)\n"
   ]
  },
  {
   "cell_type": "code",
   "execution_count": 19,
   "id": "9b165676-cf9e-4c59-a787-9c9a88e40371",
   "metadata": {},
   "outputs": [
    {
     "name": "stdout",
     "output_type": "stream",
     "text": [
      "xgb classifier  0.8156424581005587 0.18435754189944134\n",
      "[0.78089888 0.79888268 0.81460674 0.83146067 0.85393258]\n",
      "0.815956311593748\n"
     ]
    }
   ],
   "source": [
    "# Test another model XGB\n",
    "\n",
    "model2 = xgb.XGBClassifier()\n",
    "model2.fit(X_train,y_train,\n",
    "             eval_set=[(X_val, y_val)],\n",
    "             verbose=False)\n",
    "y2_pred = model2.predict(X_val)\n",
    "print(\"xgb classifier \", accuracy_score(y2_pred,y_val), mean_absolute_error(y2_pred, y_val))\n",
    "\n",
    "scores = cross_val_score(model2, X, y, cv=5)\n",
    "scores.sort()\n",
    "accuracy = scores.mean()\n",
    "\n",
    "print(scores)\n",
    "print(accuracy)"
   ]
  },
  {
   "cell_type": "code",
   "execution_count": 20,
   "id": "99cac034-ce37-4695-95ce-831fb8f40cc0",
   "metadata": {},
   "outputs": [
    {
     "name": "stdout",
     "output_type": "stream",
     "text": [
      "xgb classifier  0.8100558659217877 0.18994413407821228\n",
      "[0.71910112 0.76536313 0.78089888 0.78089888 0.84269663]\n",
      "0.7777917268219195\n"
     ]
    }
   ],
   "source": [
    "# Test another model TREE\n",
    "\n",
    "model3 = DecisionTreeClassifier()\n",
    "model3.fit(X_train,y_train)\n",
    "y3_pred = model3.predict(X_val)\n",
    "print(\"xgb classifier \", accuracy_score(y3_pred,y_val), mean_absolute_error(y3_pred, y_val))\n",
    "\n",
    "scores = cross_val_score(model3, X, y, cv=5)\n",
    "scores.sort()\n",
    "accuracy = scores.mean()\n",
    "\n",
    "print(scores)\n",
    "print(accuracy)"
   ]
  }
 ],
 "metadata": {
  "kernelspec": {
   "display_name": "Python 3 (ipykernel)",
   "language": "python",
   "name": "python3"
  },
  "language_info": {
   "codemirror_mode": {
    "name": "ipython",
    "version": 3
   },
   "file_extension": ".py",
   "mimetype": "text/x-python",
   "name": "python",
   "nbconvert_exporter": "python",
   "pygments_lexer": "ipython3",
   "version": "3.9.0"
  }
 },
 "nbformat": 4,
 "nbformat_minor": 5
}
